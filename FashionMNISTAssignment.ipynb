{
 "cells": [
  {
   "cell_type": "code",
   "execution_count": 1,
   "metadata": {
    "collapsed": true
   },
   "outputs": [],
   "source": [
    "import numpy as np\n",
    "import torch\n",
    "import torch.nn as nn\n",
    "import torch.nn.functional as F\n",
    "from torch.utils.data import DataLoader, Dataset\n",
    "from torch.autograd import Variable\n",
    "import torchvision\n",
    "import torchvision.transforms as transforms\n",
    "import time\n",
    "#from logger import Logger"
   ]
  },
  {
   "cell_type": "code",
   "execution_count": 2,
   "metadata": {
    "collapsed": true
   },
   "outputs": [],
   "source": [
    "train_data = torchvision.datasets.FashionMNIST(root='', train=True, download=False,\n",
    "                                               transform=transforms.Compose([transforms.Grayscale(),\n",
    "                                                                            transforms.ToTensor(),\n",
    "                                                                            transforms.Normalize((0.5,0.5,0.5),(0.5,0.5,0.5))]))"
   ]
  },
  {
   "cell_type": "code",
   "execution_count": 3,
   "metadata": {
    "collapsed": true
   },
   "outputs": [],
   "source": [
    "train_loader = DataLoader(train_data, batch_size=64, shuffle=True, drop_last=True)"
   ]
  },
  {
   "cell_type": "code",
   "execution_count": 4,
   "metadata": {},
   "outputs": [
    {
     "name": "stdout",
     "output_type": "stream",
     "text": [
      "9\n"
     ]
    },
    {
     "data": {
      "image/png": "[encoded data removed]",
      "text/plain": [
       "<matplotlib.figure.Figure at 0x7fca3c68fb00>"
      ]
     },
     "metadata": {},
     "output_type": "display_data"
    }
   ],
   "source": [
    "import matplotlib.pyplot as plt\n",
    "%matplotlib inline\n",
    "view_data = iter(train_loader)\n",
    "images, labels = view_data.next()\n",
    "plt.imshow((images[0][0]/2 + 0.5).numpy())\n",
    "print(labels[0])"
   ]
  },
  {
   "cell_type": "code",
   "execution_count": 201,
   "metadata": {
    "collapsed": true
   },
   "outputs": [],
   "source": [
    "class Conv_Net(nn.Module):\n",
    "    def __init__(self):\n",
    "        super(Conv_Net, self).__init__()\n",
    "        self.conv1 = nn.Conv2d(1, 50, kernel_size=(3,3), padding=0)   #30\n",
    "        nn.init.xavier_uniform(self.conv1.weight)\n",
    "        self.pool = nn.MaxPool2d((2,2),padding=1, stride=1)\n",
    "        self.batch_norm1 = nn.BatchNorm2d(50)\n",
    "        self.conv2 = nn.Conv2d(50, 50, kernel_size=(3,3), padding=1)   #30\n",
    "        nn.init.xavier_uniform(self.conv2.weight)\n",
    "        self.batch_norm2 = nn.BatchNorm2d(50)\n",
    "        self.conv3 = nn.Conv2d(50, 50, kernel_size=(3,3), padding=1)    #30\n",
    "        nn.init.xavier_uniform(self.conv3.weight)\n",
    "        self.batch_norm3 = nn.BatchNorm2d(50)\n",
    "        self.conv4 = nn.Conv2d(50, 50, kernel_size=(3,3), padding=1)    #30\n",
    "        nn.init.xavier_uniform(self.conv4.weight)\n",
    "        self.batch_norm4 = nn.BatchNorm2d(50)\n",
    "        self.conv5 = nn.Conv2d(50, 20, kernel_size=(2,2), padding=1)\n",
    "        nn.init.xavier_uniform(self.conv5.weight)\n",
    "        self.batch_norm5 = nn.BatchNorm2d(20)\n",
    "        self.conv6 = nn.Conv2d(20, 5, kernel_size=(2,2), padding=1)\n",
    "        nn.init.xavier_uniform(self.conv6.weight)\n",
    "        self.batch_norm6 = nn.BatchNorm2d(5)\n",
    "#        self.fc1 = nn.Linear(23520, 5000)\n",
    "#        nn.init.xavier_uniform(self.fc1.weight)\n",
    "#        self.fc2 = nn.Linear(5000, 800)\n",
    "#        nn.init.xavier_uniform(self.fc2.weight)\n",
    "#        self.fc3 = nn.Linear(800, 100)\n",
    "#        nn.init.xavier_uniform(self.fc3.weight)\n",
    "#        self.fc4 = nn.Linear(100,10)\n",
    "#        nn.init.xavier_uniform(self.fc4.weight)\n",
    "        \n",
    "        self.fc1 = nn.Linear(4500, 800)\n",
    "        nn.init.xavier_uniform(self.fc1.weight)\n",
    "#        self.fc2 = nn.Linear(5000, 800)\n",
    "#        nn.init.xavier_uniform(self.fc2.weight)\n",
    "        self.fc2 = nn.Linear(800, 100)\n",
    "        nn.init.xavier_uniform(self.fc2.weight)\n",
    "        self.fc3 = nn.Linear(100,10)\n",
    "        nn.init.xavier_uniform(self.fc3.weight)\n",
    "        \n",
    "    def forward(self, x):\n",
    "        x = self.pool(self.batch_norm1(F.leaky_relu(self.conv1(x))))\n",
    "        x = self.pool(self.batch_norm2(F.leaky_relu(self.conv2(x))))\n",
    "        x = self.batch_norm3(F.leaky_relu(self.conv3(x)))\n",
    "        x = self.batch_norm4(F.leaky_relu(self.conv4(x)))\n",
    "        x = self.batch_norm5(F.leaky_relu(self.conv5(x)))\n",
    "        x = self.batch_norm6(F.leaky_relu(self.conv6(x)))\n",
    "        x = x.view(-1, 4500)\n",
    "        x = F.leaky_relu(self.fc1(x))\n",
    "        x = F.dropout(x, p=0.4)\n",
    "        x = F.leaky_relu(self.fc2(x))\n",
    "        x = F.dropout(x, p=0.4)\n",
    "        x = F.leaky_relu(self.fc3(x))\n",
    "        x = F.dropout(x, p=0.4)\n",
    "        return x\n",
    "\n"
   ]
  },
  {
   "cell_type": "code",
   "execution_count": 203,
   "metadata": {
    "collapsed": true
   },
   "outputs": [],
   "source": [
    "conv_net = Conv_Net()\n",
    "from collections import OrderedDict\n",
    "new_state_dict = OrderedDict()\n",
    "state_dict = torch.load('Seventh_run:params', map_location=lambda storage, loc:storage)\n",
    "for k, v in state_dict.items():\n",
    "    name = k[7:] # remove `module.`\n",
    "    new_state_dict[name] = v\n",
    "# load params\n",
    "conv_net.load_state_dict(new_state_dict)"
   ]
  },
  {
   "cell_type": "code",
   "execution_count": 107,
   "metadata": {
    "collapsed": true
   },
   "outputs": [],
   "source": [
    "optimizer = torch.optim.Adam(conv_net.parameters(), lr=0.000005, betas=(0.5, 0.999))\n",
    "Loss = nn.CrossEntropyLoss()\n",
    "\n",
    "\n",
    "if torch.cuda.is_available():\n",
    "    conv_net = nn.DataParallel(conv_net)\n",
    "    conv_net.cuda()\n",
    "    "
   ]
  },
  {
   "cell_type": "code",
   "execution_count": 108,
   "metadata": {
    "collapsed": true
   },
   "outputs": [
    {
     "name": "stdout",
     "output_type": "stream",
     "text": [
      "0 done 0.2495584338903427\n"
     ]
    },
    {
     "ename": "KeyboardInterrupt",
     "evalue": "",
     "output_type": "error",
     "traceback": [
      "\u001b[0;31m---------------------------------------------------------------------------\u001b[0m",
      "\u001b[0;31mKeyboardInterrupt\u001b[0m                         Traceback (most recent call last)",
      "\u001b[0;32m<ipython-input-108-7169d1340f36>\u001b[0m in \u001b[0;36m<module>\u001b[0;34m()\u001b[0m\n\u001b[1;32m      4\u001b[0m     \u001b[0mepoch_loss\u001b[0m \u001b[0;34m=\u001b[0m \u001b[0;36m0.0\u001b[0m\u001b[0;34m\u001b[0m\u001b[0m\n\u001b[1;32m      5\u001b[0m     \u001b[0mstart\u001b[0m \u001b[0;34m=\u001b[0m \u001b[0mtime\u001b[0m\u001b[0;34m.\u001b[0m\u001b[0mtime\u001b[0m\u001b[0;34m(\u001b[0m\u001b[0;34m)\u001b[0m\u001b[0;34m\u001b[0m\u001b[0m\n\u001b[0;32m----> 6\u001b[0;31m     \u001b[0;32mfor\u001b[0m \u001b[0mi\u001b[0m\u001b[0;34m,\u001b[0m \u001b[0melement\u001b[0m \u001b[0;32min\u001b[0m \u001b[0menumerate\u001b[0m\u001b[0;34m(\u001b[0m\u001b[0mtrain_loader\u001b[0m\u001b[0;34m)\u001b[0m\u001b[0;34m:\u001b[0m\u001b[0;34m\u001b[0m\u001b[0m\n\u001b[0m\u001b[1;32m      7\u001b[0m \u001b[0;34m\u001b[0m\u001b[0m\n\u001b[1;32m      8\u001b[0m         \u001b[0mimages\u001b[0m\u001b[0;34m,\u001b[0m \u001b[0mlabels\u001b[0m \u001b[0;34m=\u001b[0m \u001b[0melement\u001b[0m\u001b[0;34m\u001b[0m\u001b[0m\n",
      "\u001b[0;32m~/anaconda3/lib/python3.6/site-packages/torch/utils/data/dataloader.py\u001b[0m in \u001b[0;36m__next__\u001b[0;34m(self)\u001b[0m\n\u001b[1;32m    186\u001b[0m         \u001b[0;32mif\u001b[0m \u001b[0mself\u001b[0m\u001b[0;34m.\u001b[0m\u001b[0mnum_workers\u001b[0m \u001b[0;34m==\u001b[0m \u001b[0;36m0\u001b[0m\u001b[0;34m:\u001b[0m  \u001b[0;31m# same-process loading\u001b[0m\u001b[0;34m\u001b[0m\u001b[0m\n\u001b[1;32m    187\u001b[0m             \u001b[0mindices\u001b[0m \u001b[0;34m=\u001b[0m \u001b[0mnext\u001b[0m\u001b[0;34m(\u001b[0m\u001b[0mself\u001b[0m\u001b[0;34m.\u001b[0m\u001b[0msample_iter\u001b[0m\u001b[0;34m)\u001b[0m  \u001b[0;31m# may raise StopIteration\u001b[0m\u001b[0;34m\u001b[0m\u001b[0m\n\u001b[0;32m--> 188\u001b[0;31m             \u001b[0mbatch\u001b[0m \u001b[0;34m=\u001b[0m \u001b[0mself\u001b[0m\u001b[0;34m.\u001b[0m\u001b[0mcollate_fn\u001b[0m\u001b[0;34m(\u001b[0m\u001b[0;34m[\u001b[0m\u001b[0mself\u001b[0m\u001b[0;34m.\u001b[0m\u001b[0mdataset\u001b[0m\u001b[0;34m[\u001b[0m\u001b[0mi\u001b[0m\u001b[0;34m]\u001b[0m \u001b[0;32mfor\u001b[0m \u001b[0mi\u001b[0m \u001b[0;32min\u001b[0m \u001b[0mindices\u001b[0m\u001b[0;34m]\u001b[0m\u001b[0;34m)\u001b[0m\u001b[0;34m\u001b[0m\u001b[0m\n\u001b[0m\u001b[1;32m    189\u001b[0m             \u001b[0;32mif\u001b[0m \u001b[0mself\u001b[0m\u001b[0;34m.\u001b[0m\u001b[0mpin_memory\u001b[0m\u001b[0;34m:\u001b[0m\u001b[0;34m\u001b[0m\u001b[0m\n\u001b[1;32m    190\u001b[0m                 \u001b[0mbatch\u001b[0m \u001b[0;34m=\u001b[0m \u001b[0mpin_memory_batch\u001b[0m\u001b[0;34m(\u001b[0m\u001b[0mbatch\u001b[0m\u001b[0;34m)\u001b[0m\u001b[0;34m\u001b[0m\u001b[0m\n",
      "\u001b[0;32m~/anaconda3/lib/python3.6/site-packages/torch/utils/data/dataloader.py\u001b[0m in \u001b[0;36m<listcomp>\u001b[0;34m(.0)\u001b[0m\n\u001b[1;32m    186\u001b[0m         \u001b[0;32mif\u001b[0m \u001b[0mself\u001b[0m\u001b[0;34m.\u001b[0m\u001b[0mnum_workers\u001b[0m \u001b[0;34m==\u001b[0m \u001b[0;36m0\u001b[0m\u001b[0;34m:\u001b[0m  \u001b[0;31m# same-process loading\u001b[0m\u001b[0;34m\u001b[0m\u001b[0m\n\u001b[1;32m    187\u001b[0m             \u001b[0mindices\u001b[0m \u001b[0;34m=\u001b[0m \u001b[0mnext\u001b[0m\u001b[0;34m(\u001b[0m\u001b[0mself\u001b[0m\u001b[0;34m.\u001b[0m\u001b[0msample_iter\u001b[0m\u001b[0;34m)\u001b[0m  \u001b[0;31m# may raise StopIteration\u001b[0m\u001b[0;34m\u001b[0m\u001b[0m\n\u001b[0;32m--> 188\u001b[0;31m             \u001b[0mbatch\u001b[0m \u001b[0;34m=\u001b[0m \u001b[0mself\u001b[0m\u001b[0;34m.\u001b[0m\u001b[0mcollate_fn\u001b[0m\u001b[0;34m(\u001b[0m\u001b[0;34m[\u001b[0m\u001b[0mself\u001b[0m\u001b[0;34m.\u001b[0m\u001b[0mdataset\u001b[0m\u001b[0;34m[\u001b[0m\u001b[0mi\u001b[0m\u001b[0;34m]\u001b[0m \u001b[0;32mfor\u001b[0m \u001b[0mi\u001b[0m \u001b[0;32min\u001b[0m \u001b[0mindices\u001b[0m\u001b[0;34m]\u001b[0m\u001b[0;34m)\u001b[0m\u001b[0;34m\u001b[0m\u001b[0m\n\u001b[0m\u001b[1;32m    189\u001b[0m             \u001b[0;32mif\u001b[0m \u001b[0mself\u001b[0m\u001b[0;34m.\u001b[0m\u001b[0mpin_memory\u001b[0m\u001b[0;34m:\u001b[0m\u001b[0;34m\u001b[0m\u001b[0m\n\u001b[1;32m    190\u001b[0m                 \u001b[0mbatch\u001b[0m \u001b[0;34m=\u001b[0m \u001b[0mpin_memory_batch\u001b[0m\u001b[0;34m(\u001b[0m\u001b[0mbatch\u001b[0m\u001b[0;34m)\u001b[0m\u001b[0;34m\u001b[0m\u001b[0m\n",
      "\u001b[0;32m~/anaconda3/lib/python3.6/site-packages/torchvision-0.2.0-py3.6.egg/torchvision/datasets/mnist.py\u001b[0m in \u001b[0;36m__getitem__\u001b[0;34m(self, index)\u001b[0m\n\u001b[1;32m     74\u001b[0m \u001b[0;34m\u001b[0m\u001b[0m\n\u001b[1;32m     75\u001b[0m         \u001b[0;32mif\u001b[0m \u001b[0mself\u001b[0m\u001b[0;34m.\u001b[0m\u001b[0mtransform\u001b[0m \u001b[0;32mis\u001b[0m \u001b[0;32mnot\u001b[0m \u001b[0;32mNone\u001b[0m\u001b[0;34m:\u001b[0m\u001b[0;34m\u001b[0m\u001b[0m\n\u001b[0;32m---> 76\u001b[0;31m             \u001b[0mimg\u001b[0m \u001b[0;34m=\u001b[0m \u001b[0mself\u001b[0m\u001b[0;34m.\u001b[0m\u001b[0mtransform\u001b[0m\u001b[0;34m(\u001b[0m\u001b[0mimg\u001b[0m\u001b[0;34m)\u001b[0m\u001b[0;34m\u001b[0m\u001b[0m\n\u001b[0m\u001b[1;32m     77\u001b[0m \u001b[0;34m\u001b[0m\u001b[0m\n\u001b[1;32m     78\u001b[0m         \u001b[0;32mif\u001b[0m \u001b[0mself\u001b[0m\u001b[0;34m.\u001b[0m\u001b[0mtarget_transform\u001b[0m \u001b[0;32mis\u001b[0m \u001b[0;32mnot\u001b[0m \u001b[0;32mNone\u001b[0m\u001b[0;34m:\u001b[0m\u001b[0;34m\u001b[0m\u001b[0m\n",
      "\u001b[0;32m~/anaconda3/lib/python3.6/site-packages/torchvision-0.2.0-py3.6.egg/torchvision/transforms/transforms.py\u001b[0m in \u001b[0;36m__call__\u001b[0;34m(self, img)\u001b[0m\n\u001b[1;32m     40\u001b[0m     \u001b[0;32mdef\u001b[0m \u001b[0m__call__\u001b[0m\u001b[0;34m(\u001b[0m\u001b[0mself\u001b[0m\u001b[0;34m,\u001b[0m \u001b[0mimg\u001b[0m\u001b[0;34m)\u001b[0m\u001b[0;34m:\u001b[0m\u001b[0;34m\u001b[0m\u001b[0m\n\u001b[1;32m     41\u001b[0m         \u001b[0;32mfor\u001b[0m \u001b[0mt\u001b[0m \u001b[0;32min\u001b[0m \u001b[0mself\u001b[0m\u001b[0;34m.\u001b[0m\u001b[0mtransforms\u001b[0m\u001b[0;34m:\u001b[0m\u001b[0;34m\u001b[0m\u001b[0m\n\u001b[0;32m---> 42\u001b[0;31m             \u001b[0mimg\u001b[0m \u001b[0;34m=\u001b[0m \u001b[0mt\u001b[0m\u001b[0;34m(\u001b[0m\u001b[0mimg\u001b[0m\u001b[0;34m)\u001b[0m\u001b[0;34m\u001b[0m\u001b[0m\n\u001b[0m\u001b[1;32m     43\u001b[0m         \u001b[0;32mreturn\u001b[0m \u001b[0mimg\u001b[0m\u001b[0;34m\u001b[0m\u001b[0m\n\u001b[1;32m     44\u001b[0m \u001b[0;34m\u001b[0m\u001b[0m\n",
      "\u001b[0;32m~/anaconda3/lib/python3.6/site-packages/torchvision-0.2.0-py3.6.egg/torchvision/transforms/transforms.py\u001b[0m in \u001b[0;36m__call__\u001b[0;34m(self, img)\u001b[0m\n\u001b[1;32m    662\u001b[0m             \u001b[0mPIL\u001b[0m \u001b[0mImage\u001b[0m\u001b[0;34m:\u001b[0m \u001b[0mRandomly\u001b[0m \u001b[0mgrayscaled\u001b[0m \u001b[0mimage\u001b[0m\u001b[0;34m.\u001b[0m\u001b[0;34m\u001b[0m\u001b[0m\n\u001b[1;32m    663\u001b[0m         \"\"\"\n\u001b[0;32m--> 664\u001b[0;31m         \u001b[0;32mreturn\u001b[0m \u001b[0mF\u001b[0m\u001b[0;34m.\u001b[0m\u001b[0mto_grayscale\u001b[0m\u001b[0;34m(\u001b[0m\u001b[0mimg\u001b[0m\u001b[0;34m,\u001b[0m \u001b[0mnum_output_channels\u001b[0m\u001b[0;34m=\u001b[0m\u001b[0mself\u001b[0m\u001b[0;34m.\u001b[0m\u001b[0mnum_output_channels\u001b[0m\u001b[0;34m)\u001b[0m\u001b[0;34m\u001b[0m\u001b[0m\n\u001b[0m\u001b[1;32m    665\u001b[0m \u001b[0;34m\u001b[0m\u001b[0m\n\u001b[1;32m    666\u001b[0m \u001b[0;34m\u001b[0m\u001b[0m\n",
      "\u001b[0;32m~/anaconda3/lib/python3.6/site-packages/torchvision-0.2.0-py3.6.egg/torchvision/transforms/functional.py\u001b[0m in \u001b[0;36mto_grayscale\u001b[0;34m(img, num_output_channels)\u001b[0m\n\u001b[1;32m    568\u001b[0m \u001b[0;34m\u001b[0m\u001b[0m\n\u001b[1;32m    569\u001b[0m     \u001b[0;32mif\u001b[0m \u001b[0mnum_output_channels\u001b[0m \u001b[0;34m==\u001b[0m \u001b[0;36m1\u001b[0m\u001b[0;34m:\u001b[0m\u001b[0;34m\u001b[0m\u001b[0m\n\u001b[0;32m--> 570\u001b[0;31m         \u001b[0mimg\u001b[0m \u001b[0;34m=\u001b[0m \u001b[0mimg\u001b[0m\u001b[0;34m.\u001b[0m\u001b[0mconvert\u001b[0m\u001b[0;34m(\u001b[0m\u001b[0;34m'L'\u001b[0m\u001b[0;34m)\u001b[0m\u001b[0;34m\u001b[0m\u001b[0m\n\u001b[0m\u001b[1;32m    571\u001b[0m     \u001b[0;32melif\u001b[0m \u001b[0mnum_output_channels\u001b[0m \u001b[0;34m==\u001b[0m \u001b[0;36m3\u001b[0m\u001b[0;34m:\u001b[0m\u001b[0;34m\u001b[0m\u001b[0m\n\u001b[1;32m    572\u001b[0m         \u001b[0mimg\u001b[0m \u001b[0;34m=\u001b[0m \u001b[0mimg\u001b[0m\u001b[0;34m.\u001b[0m\u001b[0mconvert\u001b[0m\u001b[0;34m(\u001b[0m\u001b[0;34m'L'\u001b[0m\u001b[0;34m)\u001b[0m\u001b[0;34m\u001b[0m\u001b[0m\n",
      "\u001b[0;32m~/anaconda3/lib/python3.6/site-packages/PIL/Image.py\u001b[0m in \u001b[0;36mconvert\u001b[0;34m(self, mode, matrix, dither, palette, colors)\u001b[0m\n\u001b[1;32m    947\u001b[0m \u001b[0;34m\u001b[0m\u001b[0m\n\u001b[1;32m    948\u001b[0m         \u001b[0;32mtry\u001b[0m\u001b[0;34m:\u001b[0m\u001b[0;34m\u001b[0m\u001b[0m\n\u001b[0;32m--> 949\u001b[0;31m             \u001b[0mim\u001b[0m \u001b[0;34m=\u001b[0m \u001b[0mself\u001b[0m\u001b[0;34m.\u001b[0m\u001b[0mim\u001b[0m\u001b[0;34m.\u001b[0m\u001b[0mconvert\u001b[0m\u001b[0;34m(\u001b[0m\u001b[0mmode\u001b[0m\u001b[0;34m,\u001b[0m \u001b[0mdither\u001b[0m\u001b[0;34m)\u001b[0m\u001b[0;34m\u001b[0m\u001b[0m\n\u001b[0m\u001b[1;32m    950\u001b[0m         \u001b[0;32mexcept\u001b[0m \u001b[0mValueError\u001b[0m\u001b[0;34m:\u001b[0m\u001b[0;34m\u001b[0m\u001b[0m\n\u001b[1;32m    951\u001b[0m             \u001b[0;32mtry\u001b[0m\u001b[0;34m:\u001b[0m\u001b[0;34m\u001b[0m\u001b[0m\n",
      "\u001b[0;31mKeyboardInterrupt\u001b[0m: "
     ]
    }
   ],
   "source": [
    "epoch_loss_data = []\n",
    "zero = time.time()\n",
    "for i in range(20):\n",
    "    epoch_loss = 0.0\n",
    "    start = time.time()\n",
    "    for i, element in enumerate(train_loader):\n",
    "\n",
    "        images, labels = element\n",
    "        \n",
    "        images, labels = Variable(images), Variable(labels)\n",
    "        \n",
    "        optimizer.zero_grad()\n",
    "        \n",
    "        outputs = conv_net(images)\n",
    "                \n",
    "        loss = Loss(outputs, labels)\n",
    "        \n",
    "        loss.backward()\n",
    "        \n",
    "        optimizer.step()\n",
    "        \n",
    "        epoch_loss+=loss\n",
    "        \n",
    "        if i%100==0:\n",
    "            print(i, 'done', loss.data[0])\n",
    "    end = time.time()\n",
    "    print('Epoch training time: ', end-start)\n",
    "    epoch_loss_data.append(epoch_loss)\n",
    "end = time.time()\n",
    "print('Total training time: ', end - zero)\n",
    "\n",
    "\n",
    "#The networks were trained through the bash kernel, and the model, running_loss and epoch_losses were saved \n",
    "#in pickle files"
   ]
  },
  {
   "cell_type": "code",
   "execution_count": 58,
   "metadata": {
    "collapsed": true
   },
   "outputs": [],
   "source": [
    "test_data = torchvision.datasets.FashionMNIST(root='', train=False, download=False,\n",
    "                                               transform=transforms.Compose([transforms.Grayscale(),\n",
    "                                                                            transforms.ToTensor(),\n",
    "                                                                            transforms.Normalize((0.5,0.5,0.5),(0.5,0.5,0.5))]))\n",
    "test_loader = DataLoader(test_data, batch_size = 64, drop_last=True)"
   ]
  },
  {
   "cell_type": "code",
   "execution_count": 204,
   "metadata": {
    "collapsed": true
   },
   "outputs": [],
   "source": [
    "total = 0\n",
    "correct =0\n",
    "for i, element in enumerate(test_loader):\n",
    "\n",
    "    images, labels = element\n",
    "\n",
    "    images, labels = Variable(images), Variable(labels)\n",
    "\n",
    "    optimizer.zero_grad()\n",
    "\n",
    "    outputs = conv_net(images)\n",
    "\n",
    "    _, predicted = torch.max(outputs.data, 1)\n",
    "\n",
    "    if i==0:\n",
    "        final_outputs = outputs.data\n",
    "        final_predictions = predicted\n",
    "        all_labels = labels.data\n",
    "    else:\n",
    "        final_outputs = torch.cat([final_outputs, outputs.data], 0)\n",
    "        final_predictions = torch.cat((final_predictions, predicted), 0)\n",
    "        all_labels = torch.cat((all_labels, labels.data), 0)\n",
    "    total += labels.size(0)\n",
    "    correct += (predicted == labels.data).sum()"
   ]
  },
  {
   "cell_type": "code",
   "execution_count": 74,
   "metadata": {
    "collapsed": true
   },
   "outputs": [],
   "source": [
    "import sklearn.metrics"
   ]
  },
  {
   "cell_type": "code",
   "execution_count": 191,
   "metadata": {
    "collapsed": true,
    "scrolled": true
   },
   "outputs": [],
   "source": [
    "epoch_loss_data = torch.load('first_run:epoch_loss', map_location=lambda storage, loc: storage)"
   ]
  },
  {
   "cell_type": "code",
   "execution_count": 210,
   "metadata": {},
   "outputs": [
    {
     "name": "stdout",
     "output_type": "stream",
     "text": [
      "Accuracy:  87.9306891025641\n"
     ]
    }
   ],
   "source": [
    "loss = torch.load('first_run:running_loss')\n",
    "print('Accuracy: ', 100*(correct/total))"
   ]
  },
  {
   "cell_type": "code",
   "execution_count": 189,
   "metadata": {
    "scrolled": true
   },
   "outputs": [
    {
     "data": {
      "text/plain": [
       "[<matplotlib.lines.Line2D at 0x7fca1483e4a8>]"
      ]
     },
     "execution_count": 189,
     "metadata": {},
     "output_type": "execute_result"
    },
    {
     "data": {
      "image/png": "[encoded data removed]",
      "text/plain": [
       "<matplotlib.figure.Figure at 0x7fca14919c18>"
      ]
     },
     "metadata": {},
     "output_type": "display_data"
    }
   ],
   "source": [
    "plt.plot(np.arange(1,len(loss)+1), loss)"
   ]
  },
  {
   "cell_type": "code",
   "execution_count": 200,
   "metadata": {
    "collapsed": true
   },
   "outputs": [],
   "source": [
    "#Models:\n",
    "#First 86       ---> Residual + pooling(after every layer) + batch_norm(after_every_layer) + dropout(0.4)| Trainnig time : 9952s\n",
    "#Second 89      ---> Residual(one skip after first convolution) + pooling(only first two layers to avoid loss of features at \n",
    "#               ---> third and fourth layers) + batch_norm + dropout | Training time : 9730s\n",
    "#Third 86       ---> 6 Conv layers + pool(only first two layers) + 3(fc+leaky_relu) + dropout(0.4) + batch_norm | Training time : 4932s\n",
    "#Fourth 85      ---> 6 Conv layers + pool(only first two layers) + 3(fc+relu) + dropout(0.1) + batch_norm |Training time : 4784s\n",
    "#Fifth 87       ---> 6 Conv layers + pool(only first two layers) + 3(fc+elu) + dropout(0.4) + batch_norm + scheduled lr | Training time : 4897s\n",
    "#sixth 87.5     ---> 6 Conv layers + pool(only first two layers) + 3(fc+elu) + dropout(0.4) + batch_norm | Training time : 4916s\n",
    "#seven 88(87.93)       ---> 6 Conv layers + pool(only first two layers) + 3(fc+elu) + dropout(0.4) + batch_norm + xavier_initialisation | Training time : 4909s\n",
    "#Eighth 87.28   ---> 4 Conv layers + 2 pool + 4(fc + relu) + dropout(0.4) + batch_norm | Training time : 3479s\n",
    "#Nineth 87.34   ---> 4 Conv layers + 2 pool + 4(fc + elu) + dropout(0.4) + batch_norm | Training time : 3391s\n",
    "#Tenth 86.6     ---> 4 Conv layers + 4 pool + 4(fc + elu) + dropout(0.4) + batch_norm | Training time : 3380s\n",
    "#Eleventh 86.32 ---> 4 Conv layers + 4 pool + 4(fc + relu) + dropout(0.4) + batch_norm | Training time : 3421s\n",
    "\n",
    "#All models were evaluated for either 10, 20 or 30 depending on the decrease in their losses"
   ]
  },
  {
   "cell_type": "code",
   "execution_count": 205,
   "metadata": {},
   "outputs": [
    {
     "data": {
      "text/plain": [
       "array([[861,   4,  20,  43,   0,   0, 159,   0,   4,   0],\n",
       "       [  3, 968,   1,  20,   3,   0,   2,   0,   4,   0],\n",
       "       [ 14,   2, 855,  20, 124,   0, 105,   0,   7,   0],\n",
       "       [  7,  11,   4, 829,  11,   2,  11,   0,   1,   0],\n",
       "       [  6,   6,  68,  45, 803,   0,  87,   0,   1,   0],\n",
       "       [  0,   1,   0,   0,   0, 966,   0,  13,   4,   9],\n",
       "       [103,   3,  51,  40,  56,   0, 623,   0,  12,   1],\n",
       "       [  0,   0,   0,   0,   0,  18,   0, 956,   4,  30],\n",
       "       [  6,   2,   0,   2,   2,   1,  12,   0, 960,   0],\n",
       "       [  0,   0,   0,   0,   0,  10,   0,  30,   0, 958]])"
      ]
     },
     "execution_count": 205,
     "metadata": {},
     "output_type": "execute_result"
    }
   ],
   "source": [
    "#epoch_loss_data = torch.cat((epoch_loss_data, epoch_loss_data2),0)\n",
    "#plt.plot(np.arange(1,len(epoch_loss_data)), epoch_loss_data.data)\n",
    "import pandas as pd\n",
    "import seaborn as sns\n",
    "%matplotlib inline\n",
    "sklearn.metrics.confusion_matrix(final_predictions, all_labels)"
   ]
  },
  {
   "cell_type": "code",
   "execution_count": 206,
   "metadata": {},
   "outputs": [
    {
     "data": {
      "text/plain": [
       "<matplotlib.axes._subplots.AxesSubplot at 0x7fca14802320>"
      ]
     },
     "execution_count": 206,
     "metadata": {},
     "output_type": "execute_result"
    },
    {
     "data": {
      "image/png": "[encoded data removed]",
      "text/plain": [
       "<matplotlib.figure.Figure at 0x7fc9fb712400>"
      ]
     },
     "metadata": {},
     "output_type": "display_data"
    }
   ],
   "source": [
    "con_matrix = sklearn.metrics.confusion_matrix(final_predictions, all_labels)\n",
    "con_matrix = pd.DataFrame(con_matrix)\n",
    "con_matrix = con_matrix.corr()\n",
    "sns.heatmap(con_matrix, xticklabels=['T-shirt/top', 'Trouser', 'Pullover', 'Dress', 'Coat', 'Sandal',\n",
    "                                                    'Shirt', 'Sneaker', 'Bag', 'Ankle boot'],\n",
    "            yticklabels=['T-shirt/top', 'Trouser', 'Pullover', 'Dress', 'Coat', 'Sandal',\n",
    "                                                    'Shirt', 'Sneaker', 'Bag', 'Ankle boot'], linecolor='white', linewidth=1)\n"
   ]
  },
  {
   "cell_type": "code",
   "execution_count": 209,
   "metadata": {},
   "outputs": [
    {
     "name": "stdout",
     "output_type": "stream",
     "text": [
      "             precision    recall  f1-score   support\n",
      "\n",
      "          0       0.86      0.79      0.82      1091\n",
      "          1       0.97      0.97      0.97      1001\n",
      "          2       0.86      0.76      0.80      1127\n",
      "          3       0.83      0.95      0.88       876\n",
      "          4       0.80      0.79      0.80      1016\n",
      "          5       0.97      0.97      0.97       993\n",
      "          6       0.62      0.70      0.66       889\n",
      "          7       0.96      0.95      0.95      1008\n",
      "          8       0.96      0.97      0.97       985\n",
      "          9       0.96      0.96      0.96       998\n",
      "\n",
      "avg / total       0.88      0.88      0.88      9984\n",
      "\n"
     ]
    }
   ],
   "source": [
    "print(sklearn.metrics.classification_report(final_predictions, all_labels))"
   ]
  },
  {
   "cell_type": "code",
   "execution_count": 208,
   "metadata": {},
   "outputs": [
    {
     "data": {
      "text/plain": [
       "0.87930689102564108"
      ]
     },
     "execution_count": 208,
     "metadata": {},
     "output_type": "execute_result"
    }
   ],
   "source": [
    "sklearn.metrics.recall_score(all_labels, final_predictions, average='micro')"
   ]
  },
  {
   "cell_type": "code",
   "execution_count": null,
   "metadata": {
    "collapsed": true
   },
   "outputs": [],
   "source": []
  }
 ],
 "metadata": {
  "kernelspec": {
   "display_name": "Python 3",
   "language": "python",
   "name": "python3"
  },
  "language_info": {
   "codemirror_mode": {
    "name": "ipython",
    "version": 3
   },
   "file_extension": ".py",
   "mimetype": "text/x-python",
   "name": "python",
   "nbconvert_exporter": "python",
   "pygments_lexer": "ipython3",
   "version": "3.6.3"
  }
 },
 "nbformat": 4,
 "nbformat_minor": 2
}
