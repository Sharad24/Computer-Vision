{
 "cells": [
  {
   "cell_type": "code",
   "execution_count": 51,
   "metadata": {},
   "outputs": [],
   "source": [
    "import torch\n",
    "import torch.nn as nn\n",
    "import torch.nn.functional as F\n",
    "import torch.optim as optim\n",
    "from torch.optim import lr_scheduler\n",
    "from torch.autograd import Variable\n",
    "import numpy as np\n",
    "import torchvision\n",
    "from torch.utils.data import DataLoader\n",
    "from torchvision import datasets, models, transforms\n",
    "import matplotlib.pyplot as plt\n",
    "import time\n",
    "import os\n",
    "import copy"
   ]
  },
  {
   "cell_type": "code",
   "execution_count": 36,
   "metadata": {},
   "outputs": [],
   "source": [
    "image_datasets = {'train': datasets.FashionMNIST(root='', train=True, download=False,\n",
    "                                               transform=transforms.Compose([transforms.Resize((224,224)),\n",
    "                                                                            transforms.ToTensor(),\n",
    "                                                                            transforms.Normalize((0.5,0.5,0.5),(0.5,0.5,0.5))])),\n",
    "                 'val': datasets.FashionMNIST(root='', train=False, download = False,\n",
    "                                               transform=transforms.Compose([transforms.Resize((224,224)),\n",
    "                                                                            transforms.ToTensor(),\n",
    "                                                                            transforms.Normalize((0.5,0.5,0.5),(0.5,0.5,0.5))]))}\n",
    "\n",
    "dataloaders = {x: torch.utils.data.DataLoader(image_datasets[x], batch_size=64,\n",
    "                                             shuffle=True, num_workers=4)\n",
    "              for x in ['train', 'val']}"
   ]
  },
  {
   "cell_type": "code",
   "execution_count": 65,
   "metadata": {},
   "outputs": [],
   "source": [
    "def train(model, criterion, optimizer, scheduler, num_epochs=20):\n",
    "    zero = time.time()\n",
    "    \n",
    "    model_wts = copy.deepcopy(model.state_dict())\n",
    "    conv_wts = conv.state_dicts()\n",
    "    best_acc = 0.0\n",
    "    \n",
    "    for epoch in range(num_epochs):\n",
    "        print('Epoch ', epoch)\n",
    "        print('\\n')\n",
    "        \n",
    "        for phase in ['train', 'val']:\n",
    "            if phase == 'train':\n",
    "                scheduler.step()\n",
    "                model.train(True)\n",
    "            else:\n",
    "                model.train(False)\n",
    "            \n",
    "            running_loss = 0.0\n",
    "            running_corrects = 0\n",
    "            \n",
    "            for data in dataloaders[phase]:\n",
    "                images, labels = data\n",
    "\n",
    "                if torch.cuda.is_available():\n",
    "                    images, labels = Variable(images.cuda()), Variable(labels.cuda())\n",
    "\n",
    "                else:\n",
    "                    images, labels = Variable(images), Variable(labels)\n",
    "\n",
    "                optimizer.zero_grad()\n",
    "\n",
    "                outputs = conv(images)\n",
    "                \n",
    "                outputs = model(outputs)\n",
    "\n",
    "                _, predictions = torch.max(outputs.data, 1)\n",
    "\n",
    "                loss = Loss(outputs, labels)\n",
    "\n",
    "                if phase == 'train':\n",
    "                    loss.backward()\n",
    "                    optimizer.step()\n",
    "\n",
    "                running_loss +=loss.data[0] * images.size(0)\n",
    "                running_corrects += (predictions == labels.data).sum()\n",
    "\n",
    "            epoch_loss = running_loss/ (i*images.size(0))\n",
    "            epoch_acc = running_corrects / (i*images.size(0))\n",
    "\n",
    "            print(phase, '  Loss: ', epoch_loss, '  Accuracy: ', epoch_acc)\n",
    "\n",
    "            if phase == 'val' and epoch_acc>best_acc:\n",
    "                best_acc = epoch_acc\n",
    "                model_wts = copy.deepcopy(model.state_dict())\n",
    "                conv_wts = conv.state_dicts()\n",
    "\n",
    "        print('\\n')\n",
    "\n",
    "    time_elapsed = time.time - zero\n",
    "    print('Training time: ', time_elapsed)\n",
    "    print('Best val Acc: ', best_acc)\n",
    "\n",
    "    model.load_state_dict(model_wts)\n",
    "    conv.load_state_dict(conv_wts)\n",
    "    return model, conv"
   ]
  },
  {
   "cell_type": "code",
   "execution_count": 72,
   "metadata": {},
   "outputs": [],
   "source": [
    "class Conv1to3(nn.Module):\n",
    "    def __init__(self):\n",
    "        super(Conv1to3, self).__init__()\n",
    "        self.layer = nn.Conv2d(1, 3, 1)\n",
    "        nn.init.xavier_normal(self.layer.weight)\n",
    "        \n",
    "    def forward(self, x):\n",
    "        x = F.elu(self.layer(x))\n",
    "        return x\n",
    "conv = Conv1to3()\n",
    "model_ft = models.resnet18(pretrained=True)\n",
    "num_ftrs = model_ft.fc.in_features\n",
    "model_ft.fc = nn.Linear(num_ftrs, 10)\n",
    "\n",
    "if torch.cuda.is_available():\n",
    "    conv, model_ft = nn.DataParallel(conv), nn.DataParallel(model_ft)\n",
    "    conv, model_ft = conv.cuda(), model_ft.cuda()\n",
    "    \n",
    "Loss = nn.CrossEntropyLoss()\n",
    "\n",
    "optimizer_ft = torch.optim.Adam(model_ft.parameters(), lr = 0.00001, betas=(0.5, 0.990))\n",
    "\n",
    "exp_lr_scheduler = lr_scheduler.StepLR(optimizer_ft, step_size=7, gamma=0.1)\n"
   ]
  },
  {
   "cell_type": "code",
   "execution_count": 78,
   "metadata": {
    "scrolled": true
   },
   "outputs": [
    {
     "name": "stdout",
     "output_type": "stream",
     "text": [
      "Epoch  0\n",
      "\n",
      "\n"
     ]
    },
    {
     "name": "stderr",
     "output_type": "stream",
     "text": [
      "Process Process-59:\n",
      "Process Process-58:\n",
      "Process Process-57:\n",
      "Process Process-60:\n",
      "Traceback (most recent call last):\n",
      "Traceback (most recent call last):\n",
      "Traceback (most recent call last):\n",
      "Traceback (most recent call last):\n",
      "  File \"/home/f20170472/anaconda3/lib/python3.6/multiprocessing/process.py\", line 258, in _bootstrap\n",
      "    self.run()\n",
      "  File \"/home/f20170472/anaconda3/lib/python3.6/multiprocessing/process.py\", line 258, in _bootstrap\n",
      "    self.run()\n",
      "  File \"/home/f20170472/anaconda3/lib/python3.6/multiprocessing/process.py\", line 258, in _bootstrap\n",
      "    self.run()\n",
      "  File \"/home/f20170472/anaconda3/lib/python3.6/multiprocessing/process.py\", line 258, in _bootstrap\n",
      "    self.run()\n",
      "  File \"/home/f20170472/anaconda3/lib/python3.6/multiprocessing/process.py\", line 93, in run\n",
      "    self._target(*self._args, **self._kwargs)\n",
      "  File \"/home/f20170472/anaconda3/lib/python3.6/multiprocessing/process.py\", line 93, in run\n",
      "    self._target(*self._args, **self._kwargs)\n",
      "  File \"/home/f20170472/anaconda3/lib/python3.6/multiprocessing/process.py\", line 93, in run\n",
      "    self._target(*self._args, **self._kwargs)\n",
      "  File \"/home/f20170472/anaconda3/lib/python3.6/site-packages/torch/utils/data/dataloader.py\", line 36, in _worker_loop\n",
      "    r = index_queue.get()\n",
      "  File \"/home/f20170472/anaconda3/lib/python3.6/multiprocessing/process.py\", line 93, in run\n",
      "    self._target(*self._args, **self._kwargs)\n",
      "  File \"/home/f20170472/anaconda3/lib/python3.6/site-packages/torch/utils/data/dataloader.py\", line 36, in _worker_loop\n",
      "    r = index_queue.get()\n",
      "  File \"/home/f20170472/anaconda3/lib/python3.6/site-packages/torch/utils/data/dataloader.py\", line 36, in _worker_loop\n",
      "    r = index_queue.get()\n",
      "  File \"/home/f20170472/anaconda3/lib/python3.6/multiprocessing/queues.py\", line 334, in get\n",
      "    with self._rlock:\n",
      "  File \"/home/f20170472/anaconda3/lib/python3.6/site-packages/torch/utils/data/dataloader.py\", line 36, in _worker_loop\n",
      "    r = index_queue.get()\n",
      "  File \"/home/f20170472/anaconda3/lib/python3.6/multiprocessing/queues.py\", line 334, in get\n",
      "    with self._rlock:\n",
      "  File \"/home/f20170472/anaconda3/lib/python3.6/multiprocessing/queues.py\", line 334, in get\n",
      "    with self._rlock:\n",
      "  File \"/home/f20170472/anaconda3/lib/python3.6/multiprocessing/synchronize.py\", line 96, in __enter__\n",
      "    return self._semlock.__enter__()\n",
      "  File \"/home/f20170472/anaconda3/lib/python3.6/multiprocessing/queues.py\", line 335, in get\n",
      "    res = self._reader.recv_bytes()\n",
      "  File \"/home/f20170472/anaconda3/lib/python3.6/multiprocessing/synchronize.py\", line 96, in __enter__\n",
      "    return self._semlock.__enter__()\n",
      "  File \"/home/f20170472/anaconda3/lib/python3.6/multiprocessing/synchronize.py\", line 96, in __enter__\n",
      "    return self._semlock.__enter__()\n",
      "KeyboardInterrupt\n",
      "  File \"/home/f20170472/anaconda3/lib/python3.6/multiprocessing/connection.py\", line 216, in recv_bytes\n",
      "    buf = self._recv_bytes(maxlength)\n",
      "KeyboardInterrupt\n",
      "KeyboardInterrupt\n",
      "  File \"/home/f20170472/anaconda3/lib/python3.6/multiprocessing/connection.py\", line 407, in _recv_bytes\n",
      "    buf = self._recv(4)\n",
      "  File \"/home/f20170472/anaconda3/lib/python3.6/multiprocessing/connection.py\", line 379, in _recv\n",
      "    chunk = read(handle, remaining)\n",
      "KeyboardInterrupt\n"
     ]
    },
    {
     "ename": "KeyboardInterrupt",
     "evalue": "",
     "output_type": "error",
     "traceback": [
      "\u001b[0;31m---------------------------------------------------------------------------\u001b[0m",
      "\u001b[0;31mKeyboardInterrupt\u001b[0m                         Traceback (most recent call last)",
      "\u001b[0;32m<ipython-input-78-287df6f761b1>\u001b[0m in \u001b[0;36m<module>\u001b[0;34m()\u001b[0m\n\u001b[1;32m      1\u001b[0m model_ft, conv = train(model_ft, Loss, optimizer_ft, exp_lr_scheduler,\n\u001b[0;32m----> 2\u001b[0;31m                        num_epochs=25)\n\u001b[0m\u001b[1;32m      3\u001b[0m \u001b[0mtorch\u001b[0m\u001b[0;34m.\u001b[0m\u001b[0msave\u001b[0m\u001b[0;34m(\u001b[0m\u001b[0mmodel_ft\u001b[0m\u001b[0;34m.\u001b[0m\u001b[0mstate_dict\u001b[0m\u001b[0;34m(\u001b[0m\u001b[0;34m)\u001b[0m\u001b[0;34m,\u001b[0m \u001b[0;34m'transfer:params'\u001b[0m\u001b[0;34m)\u001b[0m\u001b[0;34m\u001b[0m\u001b[0m\n\u001b[1;32m      4\u001b[0m \u001b[0mtorch\u001b[0m\u001b[0;34m.\u001b[0m\u001b[0msave\u001b[0m\u001b[0;34m(\u001b[0m\u001b[0mconv\u001b[0m\u001b[0;34m.\u001b[0m\u001b[0mstate_dict\u001b[0m\u001b[0;34m(\u001b[0m\u001b[0;34m)\u001b[0m\u001b[0;34m,\u001b[0m \u001b[0;34m'conv_transfer:params'\u001b[0m\u001b[0;34m)\u001b[0m\u001b[0;34m\u001b[0m\u001b[0m\n",
      "\u001b[0;32m<ipython-input-65-42ef8e773fc1>\u001b[0m in \u001b[0;36mtrain\u001b[0;34m(model, criterion, optimizer, scheduler, num_epochs)\u001b[0m\n\u001b[1;32m     39\u001b[0m \u001b[0;34m\u001b[0m\u001b[0m\n\u001b[1;32m     40\u001b[0m                 \u001b[0;32mif\u001b[0m \u001b[0mphase\u001b[0m \u001b[0;34m==\u001b[0m \u001b[0;34m'train'\u001b[0m\u001b[0;34m:\u001b[0m\u001b[0;34m\u001b[0m\u001b[0m\n\u001b[0;32m---> 41\u001b[0;31m                     \u001b[0mloss\u001b[0m\u001b[0;34m.\u001b[0m\u001b[0mbackward\u001b[0m\u001b[0;34m(\u001b[0m\u001b[0;34m)\u001b[0m\u001b[0;34m\u001b[0m\u001b[0m\n\u001b[0m\u001b[1;32m     42\u001b[0m                     \u001b[0moptimizer\u001b[0m\u001b[0;34m.\u001b[0m\u001b[0mstep\u001b[0m\u001b[0;34m(\u001b[0m\u001b[0;34m)\u001b[0m\u001b[0;34m\u001b[0m\u001b[0m\n\u001b[1;32m     43\u001b[0m \u001b[0;34m\u001b[0m\u001b[0m\n",
      "\u001b[0;32m~/anaconda3/lib/python3.6/site-packages/torch/autograd/variable.py\u001b[0m in \u001b[0;36mbackward\u001b[0;34m(self, gradient, retain_graph, create_graph, retain_variables)\u001b[0m\n\u001b[1;32m    165\u001b[0m                 \u001b[0mVariable\u001b[0m\u001b[0;34m.\u001b[0m\u001b[0;34m\u001b[0m\u001b[0m\n\u001b[1;32m    166\u001b[0m         \"\"\"\n\u001b[0;32m--> 167\u001b[0;31m         \u001b[0mtorch\u001b[0m\u001b[0;34m.\u001b[0m\u001b[0mautograd\u001b[0m\u001b[0;34m.\u001b[0m\u001b[0mbackward\u001b[0m\u001b[0;34m(\u001b[0m\u001b[0mself\u001b[0m\u001b[0;34m,\u001b[0m \u001b[0mgradient\u001b[0m\u001b[0;34m,\u001b[0m \u001b[0mretain_graph\u001b[0m\u001b[0;34m,\u001b[0m \u001b[0mcreate_graph\u001b[0m\u001b[0;34m,\u001b[0m \u001b[0mretain_variables\u001b[0m\u001b[0;34m)\u001b[0m\u001b[0;34m\u001b[0m\u001b[0m\n\u001b[0m\u001b[1;32m    168\u001b[0m \u001b[0;34m\u001b[0m\u001b[0m\n\u001b[1;32m    169\u001b[0m     \u001b[0;32mdef\u001b[0m \u001b[0mregister_hook\u001b[0m\u001b[0;34m(\u001b[0m\u001b[0mself\u001b[0m\u001b[0;34m,\u001b[0m \u001b[0mhook\u001b[0m\u001b[0;34m)\u001b[0m\u001b[0;34m:\u001b[0m\u001b[0;34m\u001b[0m\u001b[0m\n",
      "\u001b[0;32m~/anaconda3/lib/python3.6/site-packages/torch/autograd/__init__.py\u001b[0m in \u001b[0;36mbackward\u001b[0;34m(variables, grad_variables, retain_graph, create_graph, retain_variables)\u001b[0m\n\u001b[1;32m     97\u001b[0m \u001b[0;34m\u001b[0m\u001b[0m\n\u001b[1;32m     98\u001b[0m     Variable._execution_engine.run_backward(\n\u001b[0;32m---> 99\u001b[0;31m         variables, grad_variables, retain_graph)\n\u001b[0m\u001b[1;32m    100\u001b[0m \u001b[0;34m\u001b[0m\u001b[0m\n\u001b[1;32m    101\u001b[0m \u001b[0;34m\u001b[0m\u001b[0m\n",
      "\u001b[0;31mKeyboardInterrupt\u001b[0m: "
     ]
    }
   ],
   "source": [
    "model_ft, conv = train(model_ft, Loss, optimizer_ft, exp_lr_scheduler,\n",
    "                       num_epochs=25)\n",
    "torch.save(model_ft.state_dict(), 'transfer:params')\n",
    "torch.save(conv.state_dict(), 'conv_transfer:params')\n",
    "#Model was trained through linux kernels"
   ]
  },
  {
   "cell_type": "code",
   "execution_count": 83,
   "metadata": {},
   "outputs": [],
   "source": [
    "import sklearn.metrics\n",
    "#model_ft.load_state_dict(torch.load('transfer:params', map_location=lambda storage, loc: storage))\n",
    "#conv.load_state_dict(torch.load('conv_transfer:params', map_location=lambda storage, loc: storage))\n",
    "from collections import OrderedDict\n",
    "new_state_dict = OrderedDict()\n",
    "state_dict = torch.load('transfer:params', map_location=lambda storage, loc:storage)\n",
    "for k, v in state_dict.items():\n",
    "    name = k[7:] # remove `module.`\n",
    "    new_state_dict[name] = v\n",
    "# load params\n",
    "model_ft.load_state_dict(new_state_dict)\n",
    "from collections import OrderedDict\n",
    "new_state_dict = OrderedDict()\n",
    "state_dict = torch.load('conv_transfer:params', map_location=lambda storage, loc:storage)\n",
    "for k, v in state_dict.items():\n",
    "    name = k[7:] # remove `module.`\n",
    "    new_state_dict[name] = v\n",
    "# load params\n",
    "conv.load_state_dict(new_state_dict)"
   ]
  },
  {
   "cell_type": "code",
   "execution_count": 84,
   "metadata": {},
   "outputs": [],
   "source": [
    "total = 0\n",
    "correct =0\n",
    "for i, element in enumerate(dataloaders['val']):\n",
    "\n",
    "    images, labels = element\n",
    "\n",
    "    images, labels = Variable(images), Variable(labels)\n",
    "\n",
    "    outputs = conv(images)\n",
    "    outputs = model_ft(outputs)\n",
    "\n",
    "    _, predicted = torch.max(outputs.data, 1)\n",
    "\n",
    "    if i==0:\n",
    "        final_outputs = outputs.data\n",
    "        final_predictions = predicted\n",
    "        all_labels = labels.data\n",
    "    else:\n",
    "        final_outputs = torch.cat([final_outputs, outputs.data], 0)\n",
    "        final_predictions = torch.cat((final_predictions, predicted), 0)\n",
    "        all_labels = torch.cat((all_labels, labels.data), 0)\n",
    "    total += labels.size(0)\n",
    "    correct += (predicted == labels.data).sum()"
   ]
  },
  {
   "cell_type": "code",
   "execution_count": 85,
   "metadata": {},
   "outputs": [
    {
     "data": {
      "text/plain": [
       "array([[825,   1,   9,   4,   1,   0,  68,   0,   2,   0],\n",
       "       [  0, 973,   0,   0,   0,   0,   1,   0,   0,   0],\n",
       "       [ 23,   4, 917,  10,  51,   0,  51,   0,   3,   0],\n",
       "       [ 25,  17,  11, 943,  43,   0,  28,   0,   4,   0],\n",
       "       [  2,   0,  29,  12, 871,   0,  63,   0,   3,   0],\n",
       "       [  0,   0,   0,   0,   0, 983,   0,   5,   3,   8],\n",
       "       [120,   4,  33,  31,  33,   0, 782,   0,   2,   0],\n",
       "       [  0,   0,   0,   0,   0,  14,   0, 985,   0,  36],\n",
       "       [  5,   1,   1,   0,   1,   0,   7,   0, 983,   1],\n",
       "       [  0,   0,   0,   0,   0,   3,   0,  10,   0, 955]])"
      ]
     },
     "execution_count": 85,
     "metadata": {},
     "output_type": "execute_result"
    }
   ],
   "source": [
    "import pandas as pd\n",
    "import seaborn as sns\n",
    "%matplotlib inline\n",
    "sklearn.metrics.confusion_matrix(final_predictions, all_labels)"
   ]
  },
  {
   "cell_type": "code",
   "execution_count": 86,
   "metadata": {},
   "outputs": [
    {
     "data": {
      "text/plain": [
       "<matplotlib.axes._subplots.AxesSubplot at 0x7f6cc4af55c0>"
      ]
     },
     "execution_count": 86,
     "metadata": {},
     "output_type": "execute_result"
    },
    {
     "data": {
      "image/png": "[encoded data removed]",
      "text/plain": [
       "<matplotlib.figure.Figure at 0x7f6cc4b45ef0>"
      ]
     },
     "metadata": {},
     "output_type": "display_data"
    }
   ],
   "source": [
    "con_matrix = sklearn.metrics.confusion_matrix(final_predictions, all_labels)\n",
    "con_matrix = pd.DataFrame(con_matrix)\n",
    "con_matrix = con_matrix.corr()\n",
    "sns.heatmap(con_matrix, xticklabels=['T-shirt/top', 'Trouser', 'Pullover', 'Dress', 'Coat', 'Sandal',\n",
    "                                                    'Shirt', 'Sneaker', 'Bag', 'Ankle boot'],\n",
    "            yticklabels=['T-shirt/top', 'Trouser', 'Pullover', 'Dress', 'Coat', 'Sandal',\n",
    "                                                    'Shirt', 'Sneaker', 'Bag', 'Ankle boot'], linecolor='white', linewidth=1)\n"
   ]
  },
  {
   "cell_type": "code",
   "execution_count": 87,
   "metadata": {},
   "outputs": [
    {
     "name": "stdout",
     "output_type": "stream",
     "text": [
      "             precision    recall  f1-score   support\n",
      "\n",
      "          0       0.82      0.91      0.86       910\n",
      "          1       0.97      1.00      0.99       974\n",
      "          2       0.92      0.87      0.89      1059\n",
      "          3       0.94      0.88      0.91      1071\n",
      "          4       0.87      0.89      0.88       980\n",
      "          5       0.98      0.98      0.98       999\n",
      "          6       0.78      0.78      0.78      1005\n",
      "          7       0.98      0.95      0.97      1035\n",
      "          8       0.98      0.98      0.98       999\n",
      "          9       0.95      0.99      0.97       968\n",
      "\n",
      "avg / total       0.92      0.92      0.92     10000\n",
      "\n"
     ]
    }
   ],
   "source": [
    "print(sklearn.metrics.classification_report(final_predictions, all_labels))"
   ]
  },
  {
   "cell_type": "code",
   "execution_count": null,
   "metadata": {
    "collapsed": true
   },
   "outputs": [],
   "source": []
  }
 ],
 "metadata": {
  "kernelspec": {
   "display_name": "Python 3",
   "language": "python",
   "name": "python3"
  },
  "language_info": {
   "codemirror_mode": {
    "name": "ipython",
    "version": 3
   },
   "file_extension": ".py",
   "mimetype": "text/x-python",
   "name": "python",
   "nbconvert_exporter": "python",
   "pygments_lexer": "ipython3",
   "version": "3.6.3"
  }
 },
 "nbformat": 4,
 "nbformat_minor": 2
}
